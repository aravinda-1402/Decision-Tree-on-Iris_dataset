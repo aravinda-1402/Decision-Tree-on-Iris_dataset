{
 "cells": [
  {
   "cell_type": "markdown",
   "id": "2d8ed3ef",
   "metadata": {},
   "source": [
    "# Aravinda Raman J"
   ]
  },
  {
   "cell_type": "markdown",
   "id": "653c971d",
   "metadata": {},
   "source": [
    "## Data Science and Business Analytics Intern @ TSF "
   ]
  },
  {
   "cell_type": "markdown",
   "id": "8baee2f8",
   "metadata": {},
   "source": [
    "### <u>Prediction Using Decision Tree </u>"
   ]
  },
  {
   "cell_type": "markdown",
   "id": "47cf89ef",
   "metadata": {},
   "source": [
    "#### <u>Problem Statement</u> - Creation Of Decision Tree Classifier that predicts class based on data and vizualizing the same graphically\n",
    "\n"
   ]
  },
  {
   "cell_type": "markdown",
   "id": "97cdf3ba",
   "metadata": {},
   "source": [
    "* Step 1 : Importing libraries and dataset\n",
    "* Step 2 : Checking for duplicated and null values\n",
    "* Step 3 : Splitting the data into training and test sets after finding correlation between the attributes\n",
    "* Step 4 : Building the decision tree model\n",
    "* Step 5 : Finding the accuracy and confusion matrix for testing and training sets and evaluating the model\n",
    "* Step 6 : Visualizing the decision tree and evaluating the model\n",
    "\n",
    "**Dataset used:** https://bit.ly/3kXTdox\n"
   ]
  },
  {
   "cell_type": "markdown",
   "id": "475adc01",
   "metadata": {},
   "source": [
    "###  Importing libraries and dataset"
   ]
  },
  {
   "cell_type": "code",
   "execution_count": null,
   "id": "0c0b7423",
   "metadata": {},
   "outputs": [],
   "source": [
    "import pandas as pd\n",
    "import matplotlib.pyplot as plt\n",
    "import numpy as np\n",
    "import seaborn as sns\n",
    "from sklearn.datasets import load_iris\n",
    "%matplotlib inline"
   ]
  },
  {
   "cell_type": "code",
   "execution_count": null,
   "id": "432763ac",
   "metadata": {},
   "outputs": [],
   "source": [
    "data = pd.read_csv('Iris.csv') # loading dataset"
   ]
  },
  {
   "cell_type": "code",
   "execution_count": null,
   "id": "fc719a5c",
   "metadata": {},
   "outputs": [],
   "source": [
    "data.head(10)"
   ]
  },
  {
   "cell_type": "code",
   "execution_count": null,
   "id": "2296be35",
   "metadata": {},
   "outputs": [],
   "source": [
    "data.drop(['Id'],inplace=True,axis=1)"
   ]
  },
  {
   "cell_type": "code",
   "execution_count": null,
   "id": "93931c7b",
   "metadata": {},
   "outputs": [],
   "source": [
    "data.head()"
   ]
  },
  {
   "cell_type": "code",
   "execution_count": null,
   "id": "dd5e2982",
   "metadata": {},
   "outputs": [],
   "source": [
    "data.tail()"
   ]
  },
  {
   "cell_type": "code",
   "execution_count": null,
   "id": "269b323d",
   "metadata": {},
   "outputs": [],
   "source": [
    "data.shape #checking shape of dataset"
   ]
  },
  {
   "cell_type": "code",
   "execution_count": null,
   "id": "6aa8455f",
   "metadata": {},
   "outputs": [],
   "source": [
    "data.info()"
   ]
  },
  {
   "cell_type": "code",
   "execution_count": null,
   "id": "b5826508",
   "metadata": {},
   "outputs": [],
   "source": [
    "data.describe()"
   ]
  },
  {
   "cell_type": "markdown",
   "id": "47ea5a79",
   "metadata": {},
   "source": [
    "### Checking for duplicated and null values"
   ]
  },
  {
   "cell_type": "code",
   "execution_count": null,
   "id": "d4cd1542",
   "metadata": {},
   "outputs": [],
   "source": [
    "data.isnull().sum() # checking for null values in dataset and summing them up for each attribute"
   ]
  },
  {
   "cell_type": "code",
   "execution_count": null,
   "id": "ecd1f4dc",
   "metadata": {},
   "outputs": [],
   "source": [
    "data.duplicated().sum() # checking for duplicates and dropping them from the dataset\n",
    "data[data.duplicated()==True]\n",
    "data.drop_duplicates(inplace=True)"
   ]
  },
  {
   "cell_type": "code",
   "execution_count": null,
   "id": "7e23fa56",
   "metadata": {},
   "outputs": [],
   "source": [
    "data.nunique() #checking for the number of unique datset values"
   ]
  },
  {
   "cell_type": "code",
   "execution_count": null,
   "id": "ecc870a8",
   "metadata": {},
   "outputs": [],
   "source": [
    "data.Species.value_counts() "
   ]
  },
  {
   "cell_type": "code",
   "execution_count": null,
   "id": "e338e26d",
   "metadata": {},
   "outputs": [],
   "source": [
    "# Graphs showing the relation of the differnet attributes with species\n",
    "\n",
    "fig ,((ax1,ax2),(ax3,ax4)) = plt.subplots(2,2)\n",
    "\n",
    "data.plot(kind='line', x='Species', y= 'SepalLengthCm',figsize=(25,10), ax=ax1)\n",
    "ax1.set_xlabel('Species')\n",
    "ax1.set_ylabel('Sepal Length')\n",
    "\n",
    "data.plot(kind='line', x='Species', y= 'SepalWidthCm',figsize=(25,10), ax=ax2)\n",
    "ax2.set_xlabel('Species')\n",
    "ax2.set_ylabel('Sepal Width')\n",
    "\n",
    "data.plot(kind='line', x='Species', y= 'PetalLengthCm',figsize=(25,10), ax=ax3)\n",
    "ax3.set_xlabel('Species')\n",
    "ax3.set_ylabel('Petal Length')\n",
    "\n",
    "data.plot(kind='line', x='Species', y= 'PetalWidthCm',figsize=(25,10), ax=ax4)\n",
    "ax4.set_xlabel('Species')\n",
    "ax4.set_ylabel('Petal Width')\n",
    "\n",
    "plt.show()\n"
   ]
  },
  {
   "cell_type": "code",
   "execution_count": null,
   "id": "69bbd4eb",
   "metadata": {},
   "outputs": [],
   "source": [
    "#Heatmap showing the correlation of each of the attributes\n",
    "\n",
    "plt.figure(figsize=(8,8))  \n",
    "p=sns.heatmap(data.corr())"
   ]
  },
  {
   "cell_type": "markdown",
   "id": "a87485bb",
   "metadata": {},
   "source": [
    "### Building the decision tree model"
   ]
  },
  {
   "cell_type": "code",
   "execution_count": null,
   "id": "5f0f4982",
   "metadata": {},
   "outputs": [],
   "source": [
    "X = data.iloc[:,:-1].values\n",
    "y = data.iloc[:,-1].values"
   ]
  },
  {
   "cell_type": "code",
   "execution_count": null,
   "id": "d0f3b87f",
   "metadata": {},
   "outputs": [],
   "source": [
    "from sklearn.tree import DecisionTreeClassifier\n",
    "from sklearn.model_selection import train_test_split"
   ]
  },
  {
   "cell_type": "markdown",
   "id": "8e4f5001",
   "metadata": {},
   "source": [
    "### Splitting the data into training and test sets after finding correlation between the attributes"
   ]
  },
  {
   "cell_type": "code",
   "execution_count": null,
   "id": "43dde405",
   "metadata": {},
   "outputs": [],
   "source": [
    "X_train, X_test, y_train, y_test = train_test_split(X,y,test_size=0.2,random_state=1)"
   ]
  },
  {
   "cell_type": "code",
   "execution_count": null,
   "id": "948245d0",
   "metadata": {},
   "outputs": [],
   "source": [
    "print(X_train.shape)\n",
    "print(X_test.shape)\n",
    "print(y_train.shape)\n",
    "print(y_test.shape)"
   ]
  },
  {
   "cell_type": "code",
   "execution_count": null,
   "id": "3e8764ce",
   "metadata": {},
   "outputs": [],
   "source": [
    "classifier = DecisionTreeClassifier(criterion='gini',max_depth=3)\n",
    "classifier.fit(X_train,y_train)"
   ]
  },
  {
   "cell_type": "code",
   "execution_count": null,
   "id": "de0949cb",
   "metadata": {},
   "outputs": [],
   "source": [
    "y_pred = classifier.predict(X_test)"
   ]
  },
  {
   "cell_type": "markdown",
   "id": "e55d0f3a",
   "metadata": {},
   "source": [
    "### Finding the accuracy and confusion matrix for testing and training sets and evaluating the model"
   ]
  },
  {
   "cell_type": "code",
   "execution_count": null,
   "id": "1794f33c",
   "metadata": {},
   "outputs": [],
   "source": [
    "from sklearn.metrics import classification_report,accuracy_score,confusion_matrix"
   ]
  },
  {
   "cell_type": "code",
   "execution_count": null,
   "id": "b795cf71",
   "metadata": {},
   "outputs": [],
   "source": [
    "rep = confusion_matrix(y_pred,y_test)\n",
    "print(rep)"
   ]
  },
  {
   "cell_type": "code",
   "execution_count": null,
   "id": "4ac81e90",
   "metadata": {},
   "outputs": [],
   "source": [
    "acc = accuracy_score(y_pred,y_test)\n",
    "print(acc)"
   ]
  },
  {
   "cell_type": "code",
   "execution_count": null,
   "id": "6b3716ba",
   "metadata": {},
   "outputs": [],
   "source": [
    "report = classification_report(y_pred,y_test)\n",
    "print(report)"
   ]
  },
  {
   "cell_type": "code",
   "execution_count": null,
   "id": "dfcc9f31",
   "metadata": {},
   "outputs": [],
   "source": [
    "from sklearn.model_selection import cross_val_score\n",
    "accuracies = cross_val_score(estimator = classifier, X = X_train, y = y_train, cv = 10)\n",
    "print(\"Accuracy: {:.2f} %\".format(accuracies.mean()*100))\n",
    "print(\"Standard Deviation: {:.2f} %\".format(accuracies.std()*100))"
   ]
  },
  {
   "cell_type": "code",
   "execution_count": null,
   "id": "9cbf4fee",
   "metadata": {},
   "outputs": [],
   "source": [
    "input = [[6.7,3.0,5.2,2.3]]\n",
    "print(classifier.predict(input))"
   ]
  },
  {
   "cell_type": "code",
   "execution_count": null,
   "id": "09335d43",
   "metadata": {},
   "outputs": [],
   "source": [
    "classifier.get_params()"
   ]
  },
  {
   "cell_type": "markdown",
   "id": "d88ca4b1",
   "metadata": {},
   "source": [
    "### Visualizing the decision tree and evaluating the model"
   ]
  },
  {
   "cell_type": "code",
   "execution_count": null,
   "id": "228e616e",
   "metadata": {},
   "outputs": [],
   "source": [
    "from sklearn import tree\n",
    "\n",
    "fig, axes = plt.subplots(nrows = 1,ncols = 1,figsize = (5,5), dpi=150)\n",
    "tree.plot_tree(classifier,filled=True)\n",
    "plt.show()"
   ]
  }
 ],
 "metadata": {
  "kernelspec": {
   "display_name": "Python 3",
   "language": "python",
   "name": "python3"
  },
  "language_info": {
   "codemirror_mode": {
    "name": "ipython",
    "version": 3
   },
   "file_extension": ".py",
   "mimetype": "text/x-python",
   "name": "python",
   "nbconvert_exporter": "python",
   "pygments_lexer": "ipython3",
   "version": "3.8.8"
  }
 },
 "nbformat": 4,
 "nbformat_minor": 5
}
